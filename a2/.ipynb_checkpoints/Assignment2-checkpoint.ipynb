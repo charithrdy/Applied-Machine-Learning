{
 "cells": [
  {
   "cell_type": "markdown",
   "metadata": {
    "colab_type": "text",
    "id": "R--G1S4LFVR9"
   },
   "source": [
    "<center>\n",
    "#CSCI-P556: Applied Machine Learning\n",
    "#Fall 2018\n",
    "#Assignment #2\n",
    "</center>\n",
    "---\n",
    "\n"
   ]
  },
  {
   "cell_type": "markdown",
   "metadata": {
    "colab_type": "text",
    "id": "Ooye3d-VGooZ"
   },
   "source": [
    "## Problem 1 (50 points)\n",
    "\n",
    "In this problem you will be working with Bank Marketing Dataset. We encourage your to look at the description and make yourself comfortable with it: https://archive.ics.uci.edu/ml/datasets/bank+marketing\n",
    "\n",
    "Two pairs of training and validation sets have been drawn from this dataset for you to work with, namely: \n",
    " -  `train_1.csv` and `valid_1.csv`\n",
    " -  `train_2.csv`and `valid_2.csv`\n",
    " \n",
    "Finally, we have also provided a `test.csv` which is common for both settings.\n",
    "\n",
    "### Task 0: (3 points)\n",
    "\n",
    "What is the difference between the two sets of train/validation sets? Write your answer here:\n",
    "\n",
    "### Ans: \n",
    "train_2 data is not balanced. The target variable 'y' has 25500 records as 'no' out the 28000 records present., whereas train_1 data is balanced. Same is the case with validation sets. 6000 out of 7000 records in valid_2 have target variable value as 'no'<!-- Your answers goes here -->\n"
   ]
  },
  {
   "cell_type": "markdown",
   "metadata": {
    "colab_type": "text",
    "id": "MFKZT4mhJlSK"
   },
   "source": [
    "### Task 1 (Data Preprocessing) (12 points)\n",
    "\n",
    "Before you can train a machine learning model using this dataset, you will have to run a number of preprocessing steps to transform the data into a form which will be acceptable to the model. In this task, you are supposed to carry out the follow steps:\n",
    "\n",
    "1.  Find all features that have continuous numeric values and normalize them in the same way as you did in Assignment 1. List those features here.\n",
    "2. Find all categorical features and process them as was discussed in class. List those features and explain what you did.\n",
    "3. Are there any features which have missing values? (Hint: Missing values aren't always nicely represented and can be misleading sometimes). Find those features and explain how you will handle them.\n",
    "\n"
   ]
  },
  {
   "cell_type": "markdown",
   "metadata": {
    "colab_type": "text",
    "id": "uLoZ67_hPo9I"
   },
   "source": [
    "Write your text-based answers here.\n",
    "\n",
    "\n",
    "1.   Age, balance, day, duration, campaign, pdays, previous are the features with continous numerical values. To find these, we can check the dtype of the feature as int or float.\n",
    "2. To find the categorical features, we can check the dtype of as object. In few cases dtype being 'object' may not guarantee it is a categorical variable. In such cases we have to manually look at the data and and exclude it from being encoded:\n",
    " - Job, Marital, Education, default, housing, loan, contact, month, poutcome - are the identified categorical variables.\n",
    " - I have performed combination of Label encoding and one hot encoding in case of categorical variables\n",
    " - In case of categorical variables where values have some order, for example a person who has loan would not do the term deposits, similarly for marital status. Married people are less likely to do the term deposits etc. So, label encoding is preferred in such case, other wise i have performed one hot encoding.\n",
    " - To assign labels to categories in proper order in label encoding, requires some domain knowledge. So, i have only considered few features that I have an idea about\n",
    "3. I have replaced the missing/unexpected values of columns  with categorical variables with 'mode' and columns with numerical variables with 'mean'. \n",
    "    - There are no 'missing' values in the given data set. Even if we have, we can check them using isnull() method and assign it some value using the fillna(), as performed below.\n",
    "    - But there are unexpeceted values such as 'unknown' and '-1'. Replaced those values with mode and mean as applicable.\n",
    "\n",
    "\n"
   ]
  },
  {
   "cell_type": "code",
   "execution_count": 100,
   "metadata": {
    "colab": {},
    "colab_type": "code",
    "id": "-kxn7ZjCJpJ2"
   },
   "outputs": [],
   "source": [
    "# PROBLEM 1, TASK 1 CODE GOES HERE\n",
    "import pandas as pd\n",
    "import numpy as np\n",
    "from sklearn.preprocessing import LabelEncoder\n",
    "\n",
    "def data_preprocess(data):\n",
    "    data1 = pd.read_csv(data+\".csv\")\n",
    "    \n",
    "    #Filling the missing values\n",
    "    for col in data1:\n",
    "        if data1[col].dtypes =='object':\n",
    "            if data1[col].mode()[0] != \"unknown\":\n",
    "                data1[col].replace('unknown', data1[col].mode()[0])\n",
    "            else:\n",
    "                data1[col].replace('unknown', 'NaN')\n",
    "                data1[col].fillna(data1[col].mode()[0])\n",
    "        else:\n",
    "            data1[col].replace('-1', data1[col].mean())\n",
    "                \n",
    "    #np_scaled = min_max_scaler.fit_transform(nonCategorical_train1)\n",
    "    #nonCategorical_train1 = pd.DataFrame(np_scaled)\n",
    "    #nonCategorical_train1 = min_max_scaler.fit_transform(nonCategorical_train1)\n",
    "    \n",
    "    nonCategorical_data = data1.select_dtypes(exclude=['object']).copy()\n",
    "    nonCategorical_data = nonCategorical_data.apply(lambda x: (x - np.mean(x)) / (np.max(x) - np.min(x)))\n",
    "    no_of_features = data1.shape[1] - 1\n",
    "    for col in data1.columns.values:\n",
    "        if data1[col].dtypes!='object':\n",
    "            data1[col] = nonCategorical_data[col]\n",
    "\n",
    "    listt = ['job', 'marital', 'education', 'housing', 'loan']\n",
    "    \n",
    "    data1.housing.map({\n",
    "    'yes': 1,\n",
    "    'no': 0\n",
    "})\n",
    "    data1.loan.map({\n",
    "    'yes': 1,\n",
    "    'no': 0\n",
    "})\n",
    "    data1.education.map({\n",
    "    'primary': 0,\n",
    "    'secondary': 1,\n",
    "    'tertiary': 2\n",
    "})\n",
    "    data1.marital.map({\n",
    "    'married': 0,\n",
    "    'divorced': 1,\n",
    "    'single': 2\n",
    "})\n",
    "    for col in data1.columns.values:\n",
    "        if data1[col].dtypes =='object' and col!='y' and no_of_features > 0:\n",
    "            no_of_features -= 1\n",
    "            if col not in listt:\n",
    "                #One hot Encoding\n",
    "                data1 = pd.concat([data1,pd.get_dummies(data1[col], prefix=col)],axis=1)\n",
    "                data1.drop([col],axis=1, inplace=True)\n",
    "            else:\n",
    "                # Label Encoding\n",
    "                data1[col] = le.fit_transform(data1[col])\n",
    "                \n",
    "    \n",
    "    #Determines whether the data has missing values\n",
    "    if data1.isnull().values.sum() > 0:\n",
    "        for col in data1:\n",
    "            if data1[col].isnull().sum() > 0:\n",
    "                data1 = data1.fillna(data1[col].value_counts().index[0])\n",
    "\n",
    "\n",
    "    return data1\n",
    "\n",
    "le = LabelEncoder()\n",
    "#min_max_scaler = MinMaxScaler()\n",
    "train1 = data_preprocess(\"train_1\")\n",
    "valid1 = data_preprocess(\"valid_1\")\n",
    "train2 = data_preprocess(\"train_2\")\n",
    "valid2 = data_preprocess(\"valid_2\")\n",
    "test = data_preprocess(\"test\")"
   ]
  },
  {
   "cell_type": "markdown",
   "metadata": {
    "colab_type": "text",
    "id": "5EaChdKLJjio"
   },
   "source": [
    "### Task 2 (Model $\\mathcal{A}$) (10 points)\n",
    "\n",
    "Train a logistic regression model with $L_2$ regularization on `train_1.csv` after applying the necessary preprocessing steps of Task 1. Use the validation set `valid_1.csv` to choose the best regularization coefficient $\\lambda$. Plot a curve with regularization coefficient in the X axis and the validation accuracy on the Y axis."
   ]
  },
  {
   "cell_type": "code",
   "execution_count": 101,
   "metadata": {
    "colab": {},
    "colab_type": "code",
    "id": "aQGJ10L-KhZh"
   },
   "outputs": [
    {
     "name": "stdout",
     "output_type": "stream",
     "text": [
      "Validation scores for different lambdas:--- Highest score for Lambda = 0.1\n",
      "[0.813349084465446, 0.8151210868281158, 0.8139397519196693, 0.7932663910218547, 0.7064382752510336]\n"
     ]
    },
    {
     "data": {
      "image/png": "[encoded data removed]",
      "text/plain": [
       "<Figure size 432x288 with 1 Axes>"
      ]
     },
     "metadata": {},
     "output_type": "display_data"
    }
   ],
   "source": [
    "# PROBLEM 1, TASK 2 CODE GOES HERE\n",
    "import matplotlib.pyplot as plt\n",
    "from sklearn.linear_model import LogisticRegression\n",
    "\n",
    "C = [0.01, 0.1, 1, 10, 100]\n",
    "validation_scores = []\n",
    "for i in range(5):\n",
    "    logreg = LogisticRegression(penalty='l2',C=1/C[i])\n",
    "    logreg.fit(train1.loc[:, train1.columns != 'y'], train1['y'])\n",
    "    validation_scores.append(logreg.score(valid1.loc[:, valid1.columns != 'y'], valid1['y']))\n",
    "\n",
    "plt.plot(C, validation_scores)\n",
    "plt.xlabel(\"Regularization coefficient\")\n",
    "plt.ylabel(\"Validation accuracy\")\n",
    "print(\"Validation scores for different lambdas:--- Highest score for Lambda = 0.1\")\n",
    "print(validation_scores)\n",
    "\n",
    "\n",
    "# Highest score for lambda = 0.1"
   ]
  },
  {
   "cell_type": "markdown",
   "metadata": {
    "colab_type": "text",
    "id": "c0UEYv92KnvQ"
   },
   "source": [
    "### Task 3 (Model $\\mathcal{B}$) (5 points)\n",
    "Train a logistic regression model with $L_2$ regularization on `train_2.csv` after applying the necessary preprocessing steps of Task 1. Use the validation set `valid_2.csv` to choose the best regularization coefficient $\\lambda$. Plot a curve with regularization coefficient in the X axis and the validation accuracy on the Y axis."
   ]
  },
  {
   "cell_type": "code",
   "execution_count": 103,
   "metadata": {
    "colab": {},
    "colab_type": "code",
    "id": "izeiBcCTLcM4"
   },
   "outputs": [
    {
     "name": "stdout",
     "output_type": "stream",
     "text": [
      "Validation scores for different lambdas:--- Highest score for Lambda = 0.01\n",
      "[0.9033729610174177, 0.9033729610174177, 0.9025435443737905, 0.902267072159248]\n"
     ]
    },
    {
     "data": {
      "image/png": "[encoded data removed]",
      "text/plain": [
       "<Figure size 432x288 with 1 Axes>"
      ]
     },
     "metadata": {},
     "output_type": "display_data"
    }
   ],
   "source": [
    "# PROBLEM 1, TASK 3 CODE GOES HERE\n",
    "\n",
    "C = [0.001, 0.01, 0.1, 1]\n",
    "validation_scores = []\n",
    "for i in range(4):\n",
    "    logreg = LogisticRegression(penalty='l2',C=1/C[i])\n",
    "    logreg.fit(train2.loc[:, train2.columns != 'y'], train2['y'])\n",
    "    validation_scores.append(logreg.score(valid2.loc[:, valid2.columns != 'y'], valid2['y']))\n",
    "\n",
    "\n",
    "plt.plot(C, validation_scores)\n",
    "plt.xlabel(\"Regularization coefficient\")\n",
    "plt.ylabel(\"Validation accuracy\")\n",
    "print(\"Validation scores for different lambdas:--- Highest score for Lambda = 0.01\")\n",
    "print(validation_scores)\n",
    "\n",
    "\n",
    "#Best score at lambda = 0.01"
   ]
  },
  {
   "cell_type": "markdown",
   "metadata": {
    "colab_type": "text",
    "id": "8KzsVhHPLd3P"
   },
   "source": [
    "### Task 4 (Model $\\mathcal{C}$) (10 points)\n",
    "\n",
    "As you have seen in class, due to the specific (and smart) choice of the loss function, a logistic regression classifier happens to predict the posterioir probability $p(y|\\mathbf{x})$ for any given sample. It then classifies the samples with $p(y|\\mathbf{x}) > 0.5$ as belonging to class $1$ and the rest as belonging to class $0$. Instead, for a fixed threshold of $0.5$, let us consider a dynamic threshold of $\\theta$ which can be chosen after a model has been trained.\n",
    "\n",
    "$$\n",
    "\\ y=\n",
    "\\begin{cases}\n",
    "1 \\text{ if } p(y|\\mathbf{x}) \\geq \\theta \\\\\n",
    "\\\\\n",
    "0 \\text{ if } p(y|\\mathbf{x}) < \\theta \\\\\n",
    "\\end{cases}\n",
    "$$\n",
    "\n",
    "for $0 \\leq \\theta \\leq 1$.\n",
    "\n",
    "Train a logistic regression model with $L_2$ regularization on `train_2.csv` after applying the necessary preprocessing steps of Task 1. Use the validation set `valid_2.csv` to choose the best combination of regularization coefficient $\\lambda$ and the threshold $\\theta$. The best coefficients has to be selected by you after trying out at least five, non-consecutive values. Visualize all these runs.\n",
    "\n",
    "**Hint**: Look at the documentation of Logistic Regression in sci-kit learn to come up with a plan to implement this."
   ]
  },
  {
   "cell_type": "code",
   "execution_count": 104,
   "metadata": {
    "colab": {},
    "colab_type": "code",
    "id": "zJRVTjjrSTRm"
   },
   "outputs": [
    {
     "name": "stdout",
     "output_type": "stream",
     "text": [
      "Accuracy Score --> 0.903511197124689\n",
      "Best combination of co-efficients -- > lambda = 1 and theta = 0.6\n"
     ]
    }
   ],
   "source": [
    "# PROBLEM 1, TASK 4 CODE GOES HERE\n",
    "from sklearn.metrics import accuracy_score\n",
    "C = [0.1, 1, 10, 100]\n",
    "theta = [0.3, 0.4, 0.5, 0.6, 0.7, 0.8]\n",
    "lambda_index = 0\n",
    "theta_index = 0\n",
    "validation_scores = []\n",
    "max_score = 0\n",
    "for i in range(4):\n",
    "    logreg = LogisticRegression(penalty='l2',C=1/C[i])\n",
    "    logreg.fit(train2.loc[:, train2.columns != 'y'], train2['y'])\n",
    "    for j in range(6):\n",
    "        y_pred = []\n",
    "        for prob in logreg.predict_proba(valid2.loc[:, valid2.columns != 'y']):\n",
    "            if theta[j] < prob[0]:\n",
    "                y_pred.append('no')\n",
    "            else:\n",
    "                y_pred.append('yes')\n",
    "        if accuracy_score(valid2['y'], y_pred) > max_score:\n",
    "            max_score = accuracy_score(valid2['y'], y_pred)\n",
    "            lambda_index = i\n",
    "            theta_index = j\n",
    "\n",
    "print(\"Accuracy Score --> \" + str(max_score))\n",
    "print(\"Best combination of co-efficients -- > lambda = \" + str(C[lambda_index]) + \" and theta = \" + str(theta[theta_index]))"
   ]
  },
  {
   "cell_type": "markdown",
   "metadata": {
    "colab_type": "text",
    "id": "cTa2tMCPQmCV"
   },
   "source": [
    "### Task 5 (Report and Conclusion) (10 points)\n",
    "\n",
    "1.  Give a detailed report on the performance (that is, accuracy) of Models $\\mathcal{A}$, $\\mathcal{B}$ and $\\mathcal{C}$ on the respective training sets, the validation sets and finally the test. Explain any intuition you might have on what might be happening in each of the cases. Please avoid writing unnecessary details which are not pertinent.\n",
    "2.  Do you think accuracy, the metric which you have used to find the best hyperparameter in all the above tasks, a good metric in this scenario? Explain your choice.\n",
    "\n"
   ]
  },
  {
   "cell_type": "markdown",
   "metadata": {},
   "source": [
    "### Answer for 5.1:\n",
    "\n",
    "| Model | Ideal $\\lambda$, $\\theta$ values (After Parameter Tuning) | Score(Training) | Score(Validation) | Score (Testing)\n",
    "| --- | --- | --- |\n",
    "| A (On train_1) | 0.1, N/A | 0.807 | 0.815 | 0.704 |\n",
    "| B (On train_2) | 0.01, N/A | 0.892 | 0.9033 | 0.892 |\n",
    "| C (On train_1) | 1, 0.6 | 0.836 | 0.819 | 0.891 |\n",
    "| C (On train_2) | 1, 0.6 | 0.903 | 0.90 | 0.90 |\n",
    "\n",
    "Summarizing the above results, we can observe from the above 3 tasks, model C provides the best result on train_2 data.\n",
    "- Models on train2 perform better(More accuracy score) compared to train_1, because it has more samples, 4 times as many as train_1\n",
    "- Model C performs slightly better than Model B because of the tuning of extra hyperparamater theta part from the lambda that we were doing for the model B.\n",
    "- Model A on train_1 looked very bad, but when we performed the Model C on same train_1 data, the accuracy score was much better. \n"
   ]
  },
  {
   "cell_type": "markdown",
   "metadata": {},
   "source": [
    "### Answer for 5.2:\n",
    "No the metric used here for accuracy score calculation, doesn't like a good one. Because:\n",
    "- We don’t know if all classes are being predicted equally well or whether any of the class is being neglected by the model.\n",
    "- Our train_2 data does not have equal number of samples for all the classes. So, we may achieve accuracy of 90% or more, but this is not a good score since 25500 out of 28000 samples belong to the 'No' class.\n",
    "- So, to deal we this we need to use the confusion matrix metric, where, the number of correct and incorrect predictions are summarized with count values and broken down by each class.\n"
   ]
  },
  {
   "cell_type": "code",
   "execution_count": 105,
   "metadata": {},
   "outputs": [
    {
     "name": "stdout",
     "output_type": "stream",
     "text": [
      "Accuracy score with the test data  for lambda=1 and theta=0.6 ----> 0.9000331748313612\n"
     ]
    }
   ],
   "source": [
    "#Model C with fixed labda, theta applied on test data\n",
    "logreg = LogisticRegression(penalty='l2',C=1)\n",
    "logreg.fit(train2.loc[:, train2.columns != 'y'], train2['y'])\n",
    "y_pred = []\n",
    "for prob in logreg.predict_proba(test.loc[:, test.columns != 'y']):\n",
    "    if 0.6 < prob[0]:\n",
    "        y_pred.append('no')\n",
    "    else:\n",
    "        y_pred.append('yes')\n",
    "print(\"Accuracy score with the test data  for lambda=1 and theta=0.6 ----> \" + str(accuracy_score(test['y'], y_pred)))"
   ]
  },
  {
   "cell_type": "markdown",
   "metadata": {
    "colab_type": "text",
    "id": "3b62zDpk-O8v"
   },
   "source": [
    "## Problem 2 (50 points)\n",
    "\n",
    "Consider a regression problem in which the input variable $x$ has only one feature and the target variable $y$ is generated from the input variable $x$ by a polynomial $f(x)$. The function $f$ is such that $$f(x) = \\sum_{i=0}^d w_ix^i$$ Please note that a given polynomial function can be completely described by the vector of coefficients $\\mathbf{w}$.\n",
    "\n",
    "### Task 1 (5 points)\n",
    "\n",
    "Write a function in python which can take the degree of polynomial function as input. The code to generate vector coefficeints $\\mathbf{w}$ using this input is already provided. Plot the resulting function for $x \\in (-low, high)$. The function should be plot "
   ]
  },
  {
   "cell_type": "code",
   "execution_count": 106,
   "metadata": {
    "colab": {},
    "colab_type": "code",
    "id": "ivzCo28P_SFW"
   },
   "outputs": [
    {
     "data": {
      "text/plain": [
       "<module 'matplotlib.pyplot' from 'C:\\\\Users\\\\chari\\\\Anaconda3\\\\lib\\\\site-packages\\\\matplotlib\\\\pyplot.py'>"
      ]
     },
     "execution_count": 106,
     "metadata": {},
     "output_type": "execute_result"
    },
    {
     "data": {
      "image/png": "[encoded data removed]",
      "text/plain": [
       "<Figure size 432x288 with 1 Axes>"
      ]
     },
     "metadata": {},
     "output_type": "display_data"
    }
   ],
   "source": [
    "import numpy as np\n",
    "from scipy.special import legendre\n",
    "\n",
    "def get_coefficients(degree):\n",
    "    \"\"\"\n",
    "    The coefficients returned are in the order w_0, w_1, ... , w_{degree}\n",
    "    \"\"\"\n",
    "    return legendre(degree).coefficients[::-1]\n",
    "\n",
    "def visualize_function(degree, low, high):\n",
    "    w = get_coefficients(degree)\n",
    "    x = np.linspace(low,high)\n",
    "    y = 0\n",
    "    for i in range(len(w)):\n",
    "        y += w[i]*(x**i)\n",
    "    plt.plot(x, y)\n",
    "    return plt\n",
    "\n",
    "## TEST CASES (The following lines should plot a function)\n",
    "visualize_function(3, -1, 1)\n",
    "#visualize_function(4, -1, 1)\n",
    "#visualize_function(6, -1, 1)"
   ]
  },
  {
   "cell_type": "markdown",
   "metadata": {
    "colab_type": "text",
    "id": "z8Mm1YGNBH5u"
   },
   "source": [
    "### Task 2 (5 points)\n",
    "\n",
    "Write a function in python that randomly generates a dataset (training data + test data). The function should take the degree of target polynomial as input along with the number of points that should be generated for both the training and the test sets. The polynomial will be represented by the vector of coefficients. The code to calculate these coefficients has been provided. The function should also add random normal noise to the target -- i.e. the noise should be drawn from a normal distribution with mean $\\mu=0$ and standard deviation = $\\sigma^2$. Thus: \n",
    "$$y=\\sum_{i=0}^d w_ix^i + \\mathcal{N}(0, \\sigma^2)$$\n",
    "\n"
   ]
  },
  {
   "cell_type": "code",
   "execution_count": 107,
   "metadata": {
    "colab": {},
    "colab_type": "code",
    "id": "ZZ1zxLPvCyDt"
   },
   "outputs": [
    {
     "data": {
      "text/plain": [
       "'\\nprint(X_train)\\nprint(y_train)\\nprint(X_test)\\n'"
      ]
     },
     "execution_count": 107,
     "metadata": {},
     "output_type": "execute_result"
    }
   ],
   "source": [
    "import random\n",
    "def generate_dataset(degree, n_train, n_test, sigma):\n",
    "    \"\"\"\n",
    "    - n_train - Number of training samples\n",
    "    - n_test - Number of test samples\n",
    "    - X_train is an array of size (n_train $\\times$ 1)\n",
    "    - y_train is an array of size (n_train $\\times$ 1)\n",
    "    - X_test is an array of size (n_test $\\times$ 1)\n",
    "    - y_test is an array of size (n_test $\\times$ 1)\n",
    "    \"\"\"\n",
    "    X_train = np.array([], dtype=np.float64)\n",
    "    X_test = np.array([], dtype=np.float64)\n",
    "    y_train = np.array([], dtype=np.float64)\n",
    "    y_test = np.array([], dtype=np.float64)\n",
    "    w = get_coefficients(degree)\n",
    "    for i in range(n_train):\n",
    "        x = random.uniform(-1, 1)\n",
    "        X_train = np.append(X_train, [x])\n",
    "        y = 0\n",
    "        for j in range(len(w)):\n",
    "            y += w[j]*(x**j)\n",
    "        y += np.random.normal(0, sigma)\n",
    "        y_train = np.append(y_train, y)\n",
    "    \n",
    "    for i in range(n_test):\n",
    "        x = random.uniform(-1, 1)\n",
    "        X_test = np.append(X_test, x)\n",
    "        y = 0\n",
    "        for j in range(len(w)):\n",
    "            y += w[j]*(x**j)\n",
    "        y += np.random.normal(0, sigma)\n",
    "        y_test = np.append(y_test, y)\n",
    "    return X_train, y_train, X_test, y_test\n",
    "#X_train, y_train, X_test, y_test = generate_dataset(3, 4, 4, 0.2)\n",
    "\n",
    "'''\n",
    "print(X_train)\n",
    "print(y_train)\n",
    "print(X_test)\n",
    "'''\n"
   ]
  },
  {
   "cell_type": "markdown",
   "metadata": {
    "colab_type": "text",
    "id": "et9gTUzy_Sn9"
   },
   "source": [
    "### Task 3 (20 points)\n",
    "\n",
    "1.   Use the function written in Task 2 to generate a dataset of degree $10$, with $20$ samples each in the training and test sets. The standard deviation of the noise should be $0.2$.\n",
    "2.   Plot the generated points of the train set over the function. Make use the function you wrote in Task 1 to do so. The resultant plot should not only contain the function in blue color but also the generated points in the train set in red color.\n",
    "3.   Fit two linear regressions models: $\\mathcal{A}$ and $\\mathcal{B}$ on the given training data. Model $\\mathcal{A}$ should be quadratic and Model $\\mathcal{B}$ should be of degree $10$. How would you create such models?\n",
    "4. Calculate the training error and testing error on both these models and report them nicely in a table.\n",
    "5. Explain the results:\n",
    " \n",
    " **Hint**: You are free (in fact encouraged) to design new experiments under the same paradigm to understand what is happening. You can buttress your explanation with any plots which you might generate from such new experiments.\n",
    "\n",
    " \n",
    "Note: _There is no preference over the size of the answer but please note that you shouldn't write anything that is not pertinent. While being terse, your answer should clearly convey the intuition. Also, use logical number code/text cells---i.e. every subquestion in a given task which can be considered a logical unit should be present in one cell. Do not make one cell unnecessarily long by putting multiple answers in it or split a given answer over multiple cells. Use your best judgement."
   ]
  },
  {
   "cell_type": "code",
   "execution_count": 116,
   "metadata": {},
   "outputs": [],
   "source": [
    "#Answer for Task 3.1 -\n",
    "\n",
    "X_train, y_train, X_test, y_test = generate_dataset(10, 20, 20, 0.2)"
   ]
  },
  {
   "cell_type": "code",
   "execution_count": 117,
   "metadata": {},
   "outputs": [
    {
     "data": {
      "text/plain": [
       "<matplotlib.collections.PathCollection at 0x1f947726240>"
      ]
     },
     "execution_count": 117,
     "metadata": {},
     "output_type": "execute_result"
    },
    {
     "data": {
      "image/png": "[encoded data removed]",
      "text/plain": [
       "<Figure size 432x288 with 1 Axes>"
      ]
     },
     "metadata": {},
     "output_type": "display_data"
    }
   ],
   "source": [
    "#Answer for Task 3.2 -\n",
    "\n",
    "visualize_function(10, -1, 1)\n",
    "plt.scatter(X_train, y_train, color = 'red')"
   ]
  },
  {
   "cell_type": "code",
   "execution_count": 118,
   "metadata": {},
   "outputs": [],
   "source": [
    "#Answer for Task 3.3 -\n",
    "\n",
    "from sklearn.preprocessing import PolynomialFeatures\n",
    "\n",
    "poly2 = PolynomialFeatures(2)\n",
    "X_train_deg2 = X_train.reshape(-1, 1)\n",
    "X_train_deg2 = poly2.fit_transform(X_train_deg2)\n",
    "\n",
    "X_test_deg2 = X_test.reshape(-1, 1)\n",
    "X_test_deg2 = poly2.fit_transform(X_test_deg2)\n",
    "\n",
    "poly10 = PolynomialFeatures(10)\n",
    "X_train_deg10 = X_train.reshape(-1, 1)\n",
    "X_train_deg10 = poly10.fit_transform(X_train_deg10)\n",
    "\n",
    "X_test_deg10 = X_test.reshape(-1, 1)\n",
    "X_test_deg10 = poly10.fit_transform(X_test_deg10)"
   ]
  },
  {
   "cell_type": "code",
   "execution_count": 119,
   "metadata": {},
   "outputs": [
    {
     "name": "stdout",
     "output_type": "stream",
     "text": [
      "--------------------------------------------------------------------\n",
      "                      Training Error(MSE)    Testing Error(MSE)\n",
      "--------------------------------------------------------------------\n",
      "    Degree 2 model    0.13682971493896234   0.05912332368822134\n",
      "--------------------------------------------------------------------\n",
      "   Degree 10 model   0.011555691837739548   0.12480176947765473\n"
     ]
    }
   ],
   "source": [
    "#Answer for Task 3.4 -\n",
    "from sklearn.metrics import mean_squared_error\n",
    "#Method refrenced from Stack Overflow and customized on top of it.\n",
    "def print_table(table):\n",
    "    longest_cols = [\n",
    "        (max([len(str(row[i])) for row in table]) + 3)\n",
    "        for i in range(len(table[0]))\n",
    "    ]\n",
    "    row_format = \"\".join([\"{:>\" + str(longest_col) + \"}\" for longest_col in longest_cols])\n",
    "    for row in table:\n",
    "        print(\"--------------------------------------------------------------------\")\n",
    "        print(row_format.format(*row))\n",
    "\n",
    "regr = linear_model.LinearRegression()\n",
    "regr.fit(X_train_deg2, y_train)\n",
    "y_pred = regr.predict(X_train_deg2)\n",
    "error_train_deg2 = mean_squared_error(y_train, y_pred)\n",
    "error_test_deg2 = mean_squared_error(y_test, y_pred)\n",
    "\n",
    "#error_train_deg2 = regr.score(X_train_deg2, y_train)\n",
    "#error_test_deg2 = regr.score(X_test_deg2, y_test)\n",
    "\n",
    "regr.fit(X_train_deg10, y_train)\n",
    "y_pred = regr.predict(X_train_deg10)\n",
    "error_train_deg10 = mean_squared_error(y_train, y_pred)\n",
    "error_test_deg10 = mean_squared_error(y_test, y_pred)\n",
    "\n",
    "table = [\n",
    "    [\"\", \"Training Error(MSE)\", \"Testing Error(MSE)\"],\n",
    "    [\"Degree 2 model\", error_train_deg2, error_test_deg2],\n",
    "    [\"Degree 10 model\", error_train_deg10, error_test_deg10],\n",
    "]\n",
    "\n",
    "print_table(table)"
   ]
  },
  {
   "cell_type": "markdown",
   "metadata": {},
   "source": [
    "### Explanation for 3.5:\n",
    "\n",
    "- No the results aren't suprising. We know we are overfitting the model by using a degree 10 model to train the data with just 20 samples. That is why the training error is less and testing error is huge (I am using the Mean squared error metric). And for degree 2 also we can expect the testing error to be slightly greater than trainig error, but not as huge difference as degree 10. So, the results are as expected.\n",
    "- But by adding/subtracting the noise in range (0,1) to the target variable which is already very low(like, 0.x, 0.00x), we are changing the data by an significant amount, and applying any model on top it would not be accurate.\n",
    "- Bias for degree 2 model is high and variance is low and vice versa for degree 10 model."
   ]
  },
  {
   "cell_type": "markdown",
   "metadata": {
    "colab_type": "text",
    "id": "APUqEUWUGmXo"
   },
   "source": [
    "### Task 4 (20 points)\n",
    "\n",
    "1.  Use the function written in Task 2 to generate a dataset of degree 45, with 20 samples each in the training and test sets. There should be no noise in the samples.\n",
    "2.  Repeat steps 2 to 4 from Task 3 for this dataset.\n",
    "3.  This target doesn't have noise like the previous one. Does this make the result surprising? Explain your stance. Also give a detailed explanation of why this happens.\n",
    "\n",
    "**Hint**: You are free (in fact encouraged) to design new experiements under the same paradigm to understand what is happening. You can buttress your explanation with any plots which you might generate from such new experiments."
   ]
  },
  {
   "cell_type": "code",
   "execution_count": 120,
   "metadata": {},
   "outputs": [],
   "source": [
    "#Answer for Task 4.1 -\n",
    "\n",
    "X_train, y_train, X_test, y_test = generate_dataset(45, 20, 20, 0)"
   ]
  },
  {
   "cell_type": "code",
   "execution_count": 121,
   "metadata": {},
   "outputs": [
    {
     "name": "stdout",
     "output_type": "stream",
     "text": [
      "--------------------------------------------------------------------\n",
      "                        Training Error        Testing Error\n",
      "--------------------------------------------------------------------\n",
      "    Degree 2 model   701044644.2261152   355062262.17978626\n",
      "--------------------------------------------------------------------\n",
      "   Degree 10 model   146406.2338934185   1055527867.5491047\n"
     ]
    },
    {
     "data": {
      "image/png": "[encoded data removed]",
      "text/plain": [
       "<Figure size 432x288 with 1 Axes>"
      ]
     },
     "metadata": {},
     "output_type": "display_data"
    }
   ],
   "source": [
    "#Answer for Task 4.2 -\n",
    "from sklearn.preprocessing import PolynomialFeatures\n",
    "\n",
    "visualize_function(45, -1, 1)\n",
    "plt.scatter(X_train, y_train, color = 'red')\n",
    "\n",
    "\n",
    "\n",
    "poly2 = PolynomialFeatures(2)\n",
    "X_train_deg2 = X_train.reshape(-1, 1)\n",
    "X_train_deg2 = poly2.fit_transform(X_train_deg2)\n",
    "\n",
    "X_test_deg2 = X_test.reshape(-1, 1)\n",
    "X_test_deg2 = poly2.fit_transform(X_test_deg2)\n",
    "\n",
    "poly10 = PolynomialFeatures(10)\n",
    "X_train_deg10 = X_train.reshape(-1, 1)\n",
    "X_train_deg10 = poly10.fit_transform(X_train_deg10)\n",
    "\n",
    "X_test_deg10 = X_test.reshape(-1, 1)\n",
    "X_test_deg10 = poly10.fit_transform(X_test_deg10)\n",
    "\n",
    "\n",
    "\n",
    "#Answer for Task 3.4 -\n",
    "from sklearn.metrics import mean_squared_error\n",
    "#Method refrenced from Stack Overflow and customized on top of it.\n",
    "def print_table(table):\n",
    "    longest_cols = [\n",
    "        (max([len(str(row[i])) for row in table]) + 3)\n",
    "        for i in range(len(table[0]))\n",
    "    ]\n",
    "    row_format = \"\".join([\"{:>\" + str(longest_col) + \"}\" for longest_col in longest_cols])\n",
    "    for row in table:\n",
    "        print(\"--------------------------------------------------------------------\")\n",
    "        print(row_format.format(*row))\n",
    "\n",
    "regr = linear_model.LinearRegression()\n",
    "regr.fit(X_train_deg2, y_train)\n",
    "y_pred = regr.predict(X_train_deg2)\n",
    "error_train_deg2 = mean_squared_error(y_train, y_pred)\n",
    "error_test_deg2 = mean_squared_error(y_test, y_pred)\n",
    "\n",
    "#error_train_deg2 = regr.score(X_train_deg2, y_train)\n",
    "#error_test_deg2 = regr.score(X_test_deg2, y_test)\n",
    "\n",
    "regr.fit(X_train_deg10, y_train)\n",
    "y_pred = regr.predict(X_train_deg10)\n",
    "error_train_deg10 = mean_squared_error(y_train, y_pred)\n",
    "error_test_deg10 = mean_squared_error(y_test, y_pred)\n",
    "\n",
    "table = [\n",
    "    [\"\", \"Training Error\", \"Testing Error\"],\n",
    "    [\"Degree 2 model\", error_train_deg2, error_test_deg2],\n",
    "    [\"Degree 10 model\", error_train_deg10, error_test_deg10],\n",
    "]\n",
    "\n",
    "print_table(table)"
   ]
  },
  {
   "cell_type": "markdown",
   "metadata": {},
   "source": [
    "### Explanation for 4.3:\n",
    "\n",
    "1.  Here we are performing the same steps as above but not adding noise to the training model. We are generating a degree 45 training data, without adding any kind of noise to it. This means we are overfitting the model to the training data and we can expect the test error to be huge, greater than the values in above question. So, the results here are also as expected.\n"
   ]
  }
 ],
 "metadata": {
  "colab": {
   "collapsed_sections": [],
   "name": "Assignment2.ipynb",
   "provenance": [],
   "version": "0.3.2"
  },
  "kernelspec": {
   "display_name": "Python 3",
   "language": "python",
   "name": "python3"
  },
  "language_info": {
   "codemirror_mode": {
    "name": "ipython",
    "version": 3
   },
   "file_extension": ".py",
   "mimetype": "text/x-python",
   "name": "python",
   "nbconvert_exporter": "python",
   "pygments_lexer": "ipython3",
   "version": "3.6.5"
  }
 },
 "nbformat": 4,
 "nbformat_minor": 1
}
